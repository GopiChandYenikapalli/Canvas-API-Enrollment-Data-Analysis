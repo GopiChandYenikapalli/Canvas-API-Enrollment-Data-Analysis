{
  "cells": [
    {
      "cell_type": "code",
      "execution_count": 1,
      "metadata": {
        "id": "qrGnAyw9q-pX"
      },
      "outputs": [],
      "source": [
        "# Enter your access token\n",
        "access_token = ''"
      ]
    },
    {
      "cell_type": "code",
      "execution_count": 3,
      "metadata": {
        "colab": {
          "base_uri": "https://localhost:8080/"
        },
        "id": "H-97rHBmrAjz",
        "outputId": "ad99e27e-c398-444e-ae2f-a703af029962"
      },
      "outputs": [
        {
          "name": "stdout",
          "output_type": "stream",
          "text": [
            "Enrollment data for course 134780000000002817 (Technical-Level) has been saved to enrollments_course_134780000000002817_Technical-Level.csv\n",
            "Enrollment data for course 134780000000002929 (Managerial-Level) has been saved to enrollments_course_134780000000002929_Managerial-Level.csv\n",
            "Enrollment data for course 134780000000002683 (Enter Course Name) has been saved to enrollments_course_134780000000002683_Enter Course Name.csv\n",
            "Enrollment data for course 134780000000002735 (Enter Course Name) has been saved to enrollments_course_134780000000002735_Enter Course Name.csv\n"
          ]
        }
      ],
      "source": [
        "import requests\n",
        "import pandas as pd\n",
        "from datetime import datetime\n",
        "from pandas.io.json import json_normalize\n",
        "\n",
        "def fetch_and_process_enrollments(course_id, label):\n",
        "    api_url = f\"https://canvas.instructure.com/api/v1/courses/{course_id}/enrollments\"\n",
        "    headers = {\"Authorization\": f\"Bearer {access_token}\"}\n",
        "\n",
        "    all_enrollments = []\n",
        "\n",
        "    while api_url:\n",
        "        response = requests.get(api_url, headers=headers)\n",
        "\n",
        "        if response.status_code == 200:\n",
        "            data = response.json()\n",
        "            all_enrollments.extend(data)\n",
        "\n",
        "            next_page_url = response.links.get('next', None).get('url') if 'next' in response.links else None\n",
        "            api_url = next_page_url\n",
        "        else:\n",
        "            print(f\"Request failed with status code {response.status_code}: {response.text}\")\n",
        "            break\n",
        "\n",
        "    # Flatten nested JSON structures\n",
        "    flattened_data = pd.json_normalize(all_enrollments, sep='_')\n",
        "    ## Print column names\n",
        "    ##print(flattened_data.columns)\n",
        "\n",
        "    # Define the columns you want to keep in the final DataFrame\n",
        "    columns_to_keep = [\n",
        "        'user_id', 'course_id', 'role','user_created_at', 'last_activity_at', 'total_activity_time',\n",
        "        'user_name',  'user_login_id','grades_current_score', 'grades_final_score']\n",
        "\n",
        "    # Select and reorder the columns\n",
        "    df = flattened_data[columns_to_keep].copy()\n",
        "    # Extract and format the date from the \"user_created_at\" column.\n",
        "    df['user_created_at'] = df['user_created_at'].apply(lambda x: datetime.strptime(x, \"%Y-%m-%dT%H:%M:%S%z\").strftime(\"%Y-%m-%d\") if x is not None else None)\n",
        "\n",
        "    # Extract and format the date from the \"last_activity_at\" column.\n",
        "    df['last_activity_at'] = df['last_activity_at'].apply(lambda x: datetime.strptime(x, \"%Y-%m-%dT%H:%M:%S%z\").strftime(\"%Y-%m-%d\") if x is not None else None)\n",
        "    # Save the DataFrame to a CSV file with the course ID and label in the name\n",
        "    df.to_csv(f\"course_{course_id}_{label}.csv\", index=False)\n",
        "\n",
        "    print(f\"Enrollment data for course {course_id} ({label}) has been saved to enrollments_course_{course_id}_{label}.csv\")\n",
        "\n",
        "# List of course IDs and corresponding labels\n",
        "course_info = [\n",
        "    ('134780000000002817', 'Technical-Level'),\n",
        "    ('134780000000002929', 'Managerial-Level'),\n",
        "    ('134780000000002683', 'Course-3'),\n",
        "    ('134780000000002735', 'Course-4')\n",
        "]\n",
        "\n",
        "# Fetch and process enrollments for each course\n",
        "for course_id, label in course_info:\n",
        "    fetch_and_process_enrollments(course_id, label)\n"
      ]
    }
  ],
  "metadata": {
    "colab": {
      "provenance": []
    },
    "kernelspec": {
      "display_name": "Python 3",
      "name": "python3"
    },
    "language_info": {
      "name": "python"
    }
  },
  "nbformat": 4,
  "nbformat_minor": 0
}
