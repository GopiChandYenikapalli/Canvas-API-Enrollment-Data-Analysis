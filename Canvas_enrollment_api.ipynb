{
  "nbformat": 4,
  "nbformat_minor": 0,
  "metadata": {
    "colab": {
      "provenance": []
    },
    "kernelspec": {
      "name": "python3",
      "display_name": "Python 3"
    },
    "language_info": {
      "name": "python"
    }
  },
  "cells": [
    {
      "cell_type": "code",
      "source": [
        "access_token = '13478~FFcy0Hq2lQ2YQft9N4crxXxEaqaSvhuZELPOsrjt4cac3w35KoJspSmeQuP4kpau'"
      ],
      "metadata": {
        "id": "UNWPvzs0LljU"
      },
      "execution_count": 7,
      "outputs": []
    },
    {
      "cell_type": "code",
      "execution_count": 10,
      "metadata": {
        "colab": {
          "base_uri": "https://localhost:8080/"
        },
        "id": "P7p-r2EZLgB-",
        "outputId": "8c8277e9-d64c-4f73-de0c-13d579711aca"
      },
      "outputs": [
        {
          "output_type": "stream",
          "name": "stdout",
          "text": [
            "Enrollment data has been saved to enrollments_134780000000002735.csv\n"
          ]
        }
      ],
      "source": [
        "import requests\n",
        "import pandas as pd\n",
        "from datetime import datetime\n",
        "course_id = '134780000000002735'\n",
        "# Initial URL for the Canvas API endpoint you want to access.\n",
        "api_url = (f\"https://canvas.instructure.com/api/v1/courses/{course_id}/enrollments\")\n",
        "\n",
        "# Create headers with the correct Authorization header.\n",
        "headers = {\n",
        "    \"Authorization\": f\"Bearer {access_token}\"\n",
        "}\n",
        "\n",
        "# Initialize a list to store all enrollment data.\n",
        "all_enrollments = []\n",
        "\n",
        "# Make GET requests to retrieve data from multiple pages.\n",
        "while api_url:\n",
        "    response = requests.get(api_url, headers=headers)\n",
        "\n",
        "    # Check the response status code.\n",
        "    if response.status_code == 200:\n",
        "        # Request was successful.\n",
        "        data = response.json()  # Parse the JSON response\n",
        "        all_enrollments.extend(data)\n",
        "\n",
        "        # Check if there are more pages to retrieve.\n",
        "        next_page_url = response.links.get('next', None).get('url') if 'next' in response.links else None\n",
        "        api_url = next_page_url\n",
        "    else:\n",
        "        # Request failed.\n",
        "        print(f\"Request failed with status code {response.status_code}: {response.text}\")\n",
        "        break\n",
        "\n",
        "\n",
        "# Initialize lists to store extracted data.\n",
        "user_ids = []\n",
        "ids = []\n",
        "user_roles = []\n",
        "last_activity_ats = []\n",
        "total_activity_times =[]\n",
        "names = []\n",
        "created_ats = []\n",
        "emails = []\n",
        "current_scores =[]\n",
        "final_scores = []\n",
        "\n",
        "# Iterate through all enrollment data and extract the desired fields for all users.\n",
        "for enrollment in all_enrollments:\n",
        "    user_id = enrollment.get(\"user_id\", \"\")\n",
        "    id = user_data.get(\"id\", \"\")\n",
        "    user_role = enrollment.get(\"role\", \"\")\n",
        "    last_activity_at = enrollment.get(\"last_activity_at\", \"\")\n",
        "    total_activity_time = enrollment.get(\"total_activity_time\", \"\")\n",
        "    user_data = enrollment.get(\"user\", {})\n",
        "    name = user_data.get(\"name\", \"\")\n",
        "    created_at = user_data.get(\"created_at\", \"\")\n",
        "    email = user_data.get(\"login_id\", \"\")\n",
        "    grades = enrollment.get(\"grades\", {})\n",
        "    current_score = grades.get(\"current_score\", \"\")\n",
        "    final_score = grades.get(\"final_score\", \"\")\n",
        "\n",
        "    # Append data to lists, using empty string as a default value if the field is missing.\n",
        "    user_ids.append(user_id)\n",
        "    ids.append(id)\n",
        "    user_roles.append(user_role)\n",
        "    last_activity_ats.append(last_activity_at)\n",
        "    total_activity_times.append(total_activity_time)\n",
        "    names.append(name)\n",
        "    created_ats.append(created_at)\n",
        "    emails.append(email)\n",
        "    current_scores.append(current_score)\n",
        "    final_scores.append(final_score)\n",
        "\n",
        "# Create a DataFrame to organize the extracted data.\n",
        "df = pd.DataFrame({\n",
        "    \"User ID\": user_ids,\n",
        "    \"ID\": ids,\n",
        "    \"User Role\": user_roles,\n",
        "    \"Created At\": created_ats,\n",
        "    \"Last Activity At\": last_activity_ats,\n",
        "    \"Name\": names,\n",
        "    \"Email\": emails,\n",
        "    \"Current Score\": current_scores,\n",
        "    \"Final Score\": final_scores,\n",
        "    \"Total Activity Time\": total_activity_times\n",
        "})\n",
        "# Extract and format the date from the \"created_at\" column.\n",
        "df['Created At'] = df['Created At'].apply(lambda x: datetime.strptime(x, \"%Y-%m-%dT%H:%M:%S%z\").strftime(\"%Y-%m-%d\"))\n",
        "# Save the DataFrame to a CSV file.\n",
        "df.to_csv(f\"enrollments_{course_id}.csv\", index=False)\n",
        "\n",
        "# Print a message indicating that the data has been saved.\n",
        "print(f\"Enrollment data has been saved to enrollments_{course_id}.csv\")\n",
        "\n",
        "\n"
      ]
    }
  ]
}